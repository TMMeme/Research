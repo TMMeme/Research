{
  "nbformat": 4,
  "nbformat_minor": 0,
  "metadata": {
    "colab": {
      "provenance": [],
      "collapsed_sections": [],
      "include_colab_link": true
    },
    "kernelspec": {
      "name": "python3",
      "display_name": "Python 3"
    },
    "language_info": {
      "name": "python"
    },
    "accelerator": "GPU"
  },
  "cells": [
    {
      "cell_type": "markdown",
      "metadata": {
        "id": "view-in-github",
        "colab_type": "text"
      },
      "source": [
        "<a href=\"https://colab.research.google.com/github/TMMeme/Research/blob/main/QConv1d.ipynb\" target=\"_parent\"><img src=\"https://colab.research.google.com/assets/colab-badge.svg\" alt=\"Open In Colab\"/></a>"
      ]
    },
    {
      "cell_type": "code",
      "source": [
        "pip install pennylane"
      ],
      "metadata": {
        "colab": {
          "base_uri": "https://localhost:8080/"
        },
        "id": "01bDMhg5vBJz",
        "outputId": "d75a7d47-2571-4d3d-e9f3-44312031fc3c"
      },
      "execution_count": null,
      "outputs": [
        {
          "output_type": "stream",
          "name": "stdout",
          "text": [
            "Looking in indexes: https://pypi.org/simple, https://us-python.pkg.dev/colab-wheels/public/simple/\n",
            "Collecting pennylane\n",
            "  Downloading PennyLane-0.25.1-py3-none-any.whl (1.0 MB)\n",
            "\u001b[K     |████████████████████████████████| 1.0 MB 3.7 MB/s \n",
            "\u001b[?25hRequirement already satisfied: toml in /usr/local/lib/python3.7/dist-packages (from pennylane) (0.10.2)\n",
            "Collecting semantic-version>=2.7\n",
            "  Downloading semantic_version-2.10.0-py2.py3-none-any.whl (15 kB)\n",
            "Requirement already satisfied: numpy in /usr/local/lib/python3.7/dist-packages (from pennylane) (1.21.6)\n",
            "Collecting autoray>=0.3.1\n",
            "  Downloading autoray-0.3.2-py3-none-any.whl (36 kB)\n",
            "Requirement already satisfied: scipy in /usr/local/lib/python3.7/dist-packages (from pennylane) (1.7.3)\n",
            "Requirement already satisfied: appdirs in /usr/local/lib/python3.7/dist-packages (from pennylane) (1.4.4)\n",
            "Requirement already satisfied: networkx in /usr/local/lib/python3.7/dist-packages (from pennylane) (2.6.3)\n",
            "Requirement already satisfied: cachetools in /usr/local/lib/python3.7/dist-packages (from pennylane) (4.2.4)\n",
            "Collecting pennylane-lightning>=0.25\n",
            "  Downloading PennyLane_Lightning-0.25.1-cp37-cp37m-manylinux_2_17_x86_64.manylinux2014_x86_64.whl (13.6 MB)\n",
            "\u001b[K     |████████████████████████████████| 13.6 MB 12.2 MB/s \n",
            "\u001b[?25hCollecting retworkx\n",
            "  Downloading retworkx-0.11.0-cp37-cp37m-manylinux_2_5_x86_64.manylinux1_x86_64.manylinux_2_12_x86_64.manylinux2010_x86_64.whl (1.6 MB)\n",
            "\u001b[K     |████████████████████████████████| 1.6 MB 46.5 MB/s \n",
            "\u001b[?25hRequirement already satisfied: autograd in /usr/local/lib/python3.7/dist-packages (from pennylane) (1.4)\n",
            "Collecting ninja\n",
            "  Downloading ninja-1.10.2.3-py2.py3-none-manylinux_2_5_x86_64.manylinux1_x86_64.whl (108 kB)\n",
            "\u001b[K     |████████████████████████████████| 108 kB 59.3 MB/s \n",
            "\u001b[?25hRequirement already satisfied: future>=0.15.2 in /usr/local/lib/python3.7/dist-packages (from autograd->pennylane) (0.16.0)\n",
            "Installing collected packages: ninja, semantic-version, retworkx, pennylane-lightning, autoray, pennylane\n",
            "Successfully installed autoray-0.3.2 ninja-1.10.2.3 pennylane-0.25.1 pennylane-lightning-0.25.1 retworkx-0.11.0 semantic-version-2.10.0\n"
          ]
        }
      ]
    },
    {
      "cell_type": "code",
      "source": [
        "import pennylane as qml\n",
        "from pennylane import numpy as np\n",
        "from pennylane.templates import RandomLayers\n",
        "import numpy as np\n",
        "import torch\n",
        "from torch import Tensor "
      ],
      "metadata": {
        "id": "MWnQ5GVWwBfj"
      },
      "execution_count": null,
      "outputs": []
    },
    {
      "cell_type": "code",
      "source": [
        "#変数の定義\n",
        "seqlength=100\n",
        "kernel=13 #フィルターの長さ＝motifの長さ=量子ビットの数に等しい\n",
        "stride = 1"
      ],
      "metadata": {
        "id": "6hQGrVHswFDD"
      },
      "execution_count": null,
      "outputs": []
    },
    {
      "cell_type": "code",
      "source": [
        "#入力をTensor型で準備する\n",
        "\n",
        "input_tensor_A=torch.randint(low=0, high=2, size=(seqlength, ))\n",
        "input_tensor_T=torch.randint(low=0, high=2, size=(seqlength, ))\n",
        "input_tensor_G=torch.randint(low=0, high=2, size=(seqlength, ))\n",
        "input_tensor_C=torch.randint(low=0, high=2, size=(seqlength, ))\n",
        "\n",
        "input_tensor_list = [input_tensor_A, input_tensor_T, input_tensor_G, input_tensor_C]"
      ],
      "metadata": {
        "id": "x0MNH90dwUoi"
      },
      "execution_count": null,
      "outputs": []
    },
    {
      "cell_type": "code",
      "source": [
        "#deviceの定義\n",
        "dev = qml.device('default.qubit',wires=kernel)#今とりあえずlightnin.gpu使ってるけど必要に応じてdefault.qubitに変えてもいい\n",
        "seed = np.random.randint(low=0, high=10e6) #ランダム量子回路形を指定する乱数シード\n",
        "\n",
        "@qml.qnode(dev)\n",
        "def circuit(feature_vector, weights):\n",
        "  #Encoding of classical input values\n",
        "  qml.AngleEmbedding(features=feature_vector, wires=range(kernel), rotation='Y')\n",
        "  #RandomQuantumCircuit\n",
        "  qml.RandomLayers(weights, wires=range(kernel))\n",
        "  return [qml.expval(qml.PauliZ(i)) for i in range(kernel)]"
      ],
      "metadata": {
        "id": "-8PhvDT9wIHk"
      },
      "execution_count": null,
      "outputs": []
    },
    {
      "cell_type": "code",
      "execution_count": null,
      "metadata": {
        "id": "RbIlh_seu8p5"
      },
      "outputs": [],
      "source": [
        "#QConv関数を定義する\n",
        "def QConv1d(input_tensor_list, seqlength, kernel, weights):\n",
        "  feature_map_A = []\n",
        "  feature_map_T = []\n",
        "  feature_map_G = []\n",
        "  feature_map_C = []\n",
        "  feature_map_list=[feature_map_A,feature_map_T,feature_map_G,feature_map_C]\n",
        "\n",
        "  for i in range(4): \n",
        "    for j in range(0, seqlength-kernel+1, stride):\n",
        "      feature_map_list[i].append(np.sum(circuit(feature_vector=input_tensor_list[i][j:j+kernel],weights=weights)).item())\n",
        "  \n",
        "  output_tensor_A = torch.Tensor(feature_map_A)\n",
        "  output_tensor_T = torch.Tensor(feature_map_T)\n",
        "  output_tensor_G = torch.Tensor(feature_map_G)\n",
        "  output_tensor_C = torch.Tensor(feature_map_C)\n",
        "  output_tensor=(output_tensor_A + output_tensor_T + output_tensor_G + output_tensor_C).reshape(1, 88)\n",
        "  return output_tensor"
      ]
    },
    {
      "cell_type": "markdown",
      "source": [
        "QConv1dの定義できた。\n",
        "次やりたいこと\n",
        "\n",
        "1.   64枚のマップをcatする\n",
        "2.   GPUによる高速化（lightning.gpuによる高速化）"
      ],
      "metadata": {
        "id": "6qbTKtVM-7WN"
      }
    },
    {
      "cell_type": "code",
      "source": [
        "#64枚分のフィルタにQConvを適用し、最終出力をtorch.Size([64, 88])の2階テンソルで得る\n",
        "output_tensor_list = []\n",
        "num = 0\n",
        "while num < 64:\n",
        "  samp_weights = torch.randn(1,20)\n",
        "  weights=samp_weights\n",
        "  output = QConv1d(input_tensor_list=input_tensor_list, seqlength=seqlength, kernel=kernel, weights=weights)\n",
        "  output_tensor_list.append(output)\n",
        "  num +=1\n",
        "\n",
        "final_output = torch.cat(output_tensor_list, dim=0)\n",
        "print(final_output.size())"
      ],
      "metadata": {
        "colab": {
          "base_uri": "https://localhost:8080/"
        },
        "id": "PSsuz_6NB3E6",
        "outputId": "2a04c72a-b339-4d7d-ff08-6a29177c64fd"
      },
      "execution_count": null,
      "outputs": [
        {
          "output_type": "stream",
          "name": "stdout",
          "text": [
            "torch.Size([64, 88])\n"
          ]
        }
      ]
    },
    {
      "cell_type": "code",
      "source": [
        "print(final_output)"
      ],
      "metadata": {
        "colab": {
          "base_uri": "https://localhost:8080/"
        },
        "id": "XIRtCbw9DyUI",
        "outputId": "6a77b0bc-5289-420a-fece-c1f5e66db295"
      },
      "execution_count": null,
      "outputs": [
        {
          "output_type": "stream",
          "name": "stdout",
          "text": [
            "tensor([[16.2862, 16.8249, 17.0872,  ..., 18.1956, 17.8237, 16.0999],\n",
            "        [23.2651, 25.0968, 24.5123,  ..., 22.7656, 23.2568, 24.0142],\n",
            "        [26.2963, 27.6409, 29.5095,  ..., 26.8362, 27.3919, 26.0408],\n",
            "        ...,\n",
            "        [30.8843, 31.5900, 31.5891,  ..., 30.1260, 30.3540, 31.1829],\n",
            "        [24.0873, 29.1625, 26.8224,  ..., 26.3668, 25.0328, 26.8384],\n",
            "        [25.6456, 30.1759, 28.7716,  ..., 26.9595, 25.4548, 28.0954]])\n"
          ]
        }
      ]
    }
  ]
}